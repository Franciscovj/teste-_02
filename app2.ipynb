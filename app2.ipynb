{
  "nbformat": 4,
  "nbformat_minor": 0,
  "metadata": {
    "colab": {
      "provenance": [],
      "toc_visible": true,
      "authorship_tag": "ABX9TyMa3bU/YULsi7tuE5VSWQDx",
      "include_colab_link": true
    },
    "kernelspec": {
      "name": "python3",
      "display_name": "Python 3"
    },
    "language_info": {
      "name": "python"
    }
  },
  "cells": [
    {
      "cell_type": "markdown",
      "metadata": {
        "id": "view-in-github",
        "colab_type": "text"
      },
      "source": [
        "<a href=\"https://colab.research.google.com/github/Franciscovj/teste-_02/blob/main/app2.ipynb\" target=\"_parent\"><img src=\"https://colab.research.google.com/assets/colab-badge.svg\" alt=\"Open In Colab\"/></a>"
      ]
    },
    {
      "cell_type": "code",
      "execution_count": null,
      "metadata": {
        "id": "qFvyVusN6JtM"
      },
      "outputs": [],
      "source": [
        "!pip install  streamlit"
      ]
    },
    {
      "cell_type": "code",
      "source": [
        "import streamlit as st"
      ],
      "metadata": {
        "id": "LuVlXrx89cLj",
        "colab": {
          "base_uri": "https://localhost:8080/"
        },
        "outputId": "00a5dcee-7766-4b7a-dcf2-1487a5163ad9"
      },
      "execution_count": null,
      "outputs": [
        {
          "output_type": "stream",
          "name": "stderr",
          "text": [
            "INFO:numexpr.utils:NumExpr defaulting to 2 threads.\n",
            "2022-09-25 20:40:05.783 INFO    numexpr.utils: NumExpr defaulting to 2 threads.\n"
          ]
        }
      ]
    },
    {
      "cell_type": "code",
      "source": [
        "altura = st.slider('altura',0.00,2.50,value = 1.70)\n",
        "peso = st.slider('peso',0.0,300.0,value = 90.0)"
      ],
      "metadata": {
        "id": "oeFIMwK09oUY"
      },
      "execution_count": null,
      "outputs": []
    },
    {
      "cell_type": "code",
      "source": [
        "! streamlit hello"
      ],
      "metadata": {
        "id": "eFb6U6lu_Dtd"
      },
      "execution_count": null,
      "outputs": []
    }
  ]
}